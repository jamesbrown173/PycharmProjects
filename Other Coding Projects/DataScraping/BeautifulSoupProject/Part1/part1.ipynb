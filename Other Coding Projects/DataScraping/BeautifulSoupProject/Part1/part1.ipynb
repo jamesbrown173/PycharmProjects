{
 "cells": [
  {
   "cell_type": "code",
   "execution_count": null,
   "metadata": {},
   "outputs": [],
   "source": [
    "from bs4 import BeautifulSoup\n",
    "import requests"
   ]
  },
  {
   "cell_type": "markdown",
   "metadata": {},
   "source": []
  },
  {
   "cell_type": "code",
   "execution_count": null,
   "metadata": {},
   "outputs": [],
   "source": [
    "requests.get('http://theresanaiforthat.com')"
   ]
  },
  {
   "cell_type": "markdown",
   "metadata": {},
   "source": [
    "We can't use the url, because of 403 we have to use a proxy."
   ]
  },
  {
   "cell_type": "code",
   "execution_count": null,
   "metadata": {},
   "outputs": [],
   "source": [
    "url = 'http://theresanaiforthat.com'\n",
    "response = requests.get(\n",
    "  url='https://proxy.scrapeops.io/v1/',\n",
    "  params={\n",
    "      'api_key': 'bb5832e7-f25f-4796-bd8f-429d2b0f0e02',\n",
    "      'url': (url)\n",
    "  },\n",
    ")\n",
    "soup = BeautifulSoup(response.text, 'html')\n",
    "print(soup)"
   ]
  },
  {
   "cell_type": "code",
   "execution_count": null,
   "metadata": {},
   "outputs": [],
   "source": [
    "soup.find_all('div', class_ = 'tasks')[1]"
   ]
  },
  {
   "cell_type": "code",
   "execution_count": null,
   "metadata": {},
   "outputs": [],
   "source": [
    "table = soup.find_all('div', class_ = 'tasks')[1]"
   ]
  },
  {
   "cell_type": "code",
   "execution_count": 61,
   "metadata": {},
   "outputs": [
    {
     "data": {
      "text/plain": [
       "[<a class=\"ai_link new_tab\" href=\"/ai/turbine/\"> Turbine</a>,\n",
       " <a class=\"ai_link new_tab\" href=\"/ai/mocaw/\"> Mocaw</a>,\n",
       " <a class=\"ai_link new_tab\" href=\"/ai/magegpt/\"> MageGPT</a>,\n",
       " <a class=\"ai_link new_tab\" href=\"/ai/heather-ai/\"> Heather AI</a>,\n",
       " <a class=\"ai_link new_tab\" href=\"/ai/tapasom/\"> Tapasom</a>,\n",
       " <a class=\"ai_link new_tab\" href=\"/ai/just-story-it/\"> Just Story It</a>,\n",
       " <a class=\"ai_link new_tab\" href=\"/ai/catstyle/\"> CatStyle</a>,\n",
       " <a class=\"ai_link new_tab\" href=\"/ai/yobi/\"> Yobi</a>,\n",
       " <a class=\"ai_link new_tab\" href=\"/ai/checkfor/\"> Checkfor</a>,\n",
       " <a class=\"ai_link new_tab\" href=\"/ai/enterpret/\"> Enterpret</a>,\n",
       " <a class=\"ai_link new_tab\" href=\"/ai/40h/\"> 40H</a>,\n",
       " <a class=\"ai_link new_tab\" href=\"/ai/rana/\"> Rana</a>,\n",
       " <a class=\"ai_link new_tab\" href=\"/ai/yacss/\"> Yacss</a>,\n",
       " <a class=\"ai_link new_tab\" href=\"/ai/deep-art-effects/\"> Deep Art Effects</a>]"
      ]
     },
     "execution_count": 61,
     "metadata": {},
     "output_type": "execute_result"
    }
   ],
   "source": [
    "table.find_all('a', class_ = 'ai_link new_tab')"
   ]
  },
  {
   "cell_type": "code",
   "execution_count": 69,
   "metadata": {},
   "outputs": [
    {
     "name": "stdout",
     "output_type": "stream",
     "text": [
      "[' Turbine', ' Mocaw', ' MageGPT', ' Heather AI', ' Tapasom', ' Just Story It', ' CatStyle', ' Yobi', ' Checkfor', ' Enterpret', ' 40H', ' Rana', ' Yacss', ' Deep Art Effects']\n"
     ]
    }
   ],
   "source": [
    "elements = table.find_all('a', class_='ai_link new_tab')\n",
    "tool_name_text_list = [element.text for element in elements]\n",
    "\n",
    "print(text_list)"
   ]
  },
  {
   "cell_type": "code",
   "execution_count": 68,
   "metadata": {},
   "outputs": [],
   "source": [
    "import pandas as pd"
   ]
  },
  {
   "cell_type": "code",
   "execution_count": 76,
   "metadata": {},
   "outputs": [
    {
     "ename": "SyntaxError",
     "evalue": "invalid syntax (3281342254.py, line 1)",
     "output_type": "error",
     "traceback": [
      "\u001b[0;36m  Cell \u001b[0;32mIn[76], line 1\u001b[0;36m\u001b[0m\n\u001b[0;31m    df = pd.DataFrame(columns = )\u001b[0m\n\u001b[0m                                ^\u001b[0m\n\u001b[0;31mSyntaxError\u001b[0m\u001b[0;31m:\u001b[0m invalid syntax\n"
     ]
    }
   ],
   "source": [
    "df = pd.DataFrame(columns = )\n",
    "\n",
    "df"
   ]
  },
  {
   "cell_type": "code",
   "execution_count": null,
   "metadata": {},
   "outputs": [],
   "source": []
  }
 ],
 "metadata": {
  "kernelspec": {
   "display_name": "Python 3",
   "language": "python",
   "name": "python3"
  },
  "language_info": {
   "codemirror_mode": {
    "name": "ipython",
    "version": 3
   },
   "file_extension": ".py",
   "mimetype": "text/x-python",
   "name": "python",
   "nbconvert_exporter": "python",
   "pygments_lexer": "ipython3",
   "version": "3.11.4"
  },
  "orig_nbformat": 4
 },
 "nbformat": 4,
 "nbformat_minor": 2
}
